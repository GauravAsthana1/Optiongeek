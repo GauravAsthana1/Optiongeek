{
  "nbformat": 4,
  "nbformat_minor": 0,
  "metadata": {
    "colab": {
      "name": "09_Greeks Calculator.ipynb",
      "provenance": [],
      "collapsed_sections": []
    },
    "kernelspec": {
      "name": "python3",
      "display_name": "Python 3"
    },
    "language_info": {
      "name": "python"
    }
  },
  "cells": [
    {
      "cell_type": "markdown",
      "metadata": {
        "id": "Vv62XUHkaDTJ"
      },
      "source": [
        "## Step 1: Import Libraries"
      ]
    },
    {
      "cell_type": "code",
      "metadata": {
        "colab": {
          "base_uri": "https://localhost:8080/"
        },
        "id": "wUhme81saGkT",
        "outputId": "d4200283-a5cb-4f7e-c0c7-3e601923e4bd"
      },
      "source": [
        "!pip install mibian"
      ],
      "execution_count": null,
      "outputs": [
        {
          "output_type": "stream",
          "text": [
            "Collecting mibian\n",
            "  Downloading https://files.pythonhosted.org/packages/e5/74/25719d1f66b84561f209692947980660268cf601dc92766547b626eb03d5/mibian-0.1.3.tar.gz\n",
            "Building wheels for collected packages: mibian\n",
            "  Building wheel for mibian (setup.py) ... \u001b[?25l\u001b[?25hdone\n",
            "  Created wheel for mibian: filename=mibian-0.1.3-cp37-none-any.whl size=4038 sha256=08abf2ee361a49fb58f8135a015325a976f96a99a679d160f90b4c1784d8890c\n",
            "  Stored in directory: /root/.cache/pip/wheels/34/c7/51/22486b811445a01dab50193c9748e94242e55a4ce686a24240\n",
            "Successfully built mibian\n",
            "Installing collected packages: mibian\n",
            "Successfully installed mibian-0.1.3\n"
          ],
          "name": "stdout"
        }
      ]
    },
    {
      "cell_type": "code",
      "metadata": {
        "id": "bNxAf9OFaKWW"
      },
      "source": [
        "import mibian\n",
        "from tabulate import tabulate"
      ],
      "execution_count": null,
      "outputs": []
    },
    {
      "cell_type": "markdown",
      "metadata": {
        "id": "-YuV8F7haNbM"
      },
      "source": [
        "# Step 2: Define Parameters\n",
        "\n",
        "stock_price: This is the price at which the stock is trading.\n",
        "\n",
        "strike_price: This is the price at which the option will be exercised.\n",
        "\n",
        "interest_rate: This is the risk-free rate prevailing in the economy. In our example, we will take future price as the stock_price and consider the interest rate as 0. This is because the future price includes the interest rate.\n",
        "\n",
        "days_to_expiry: This the number of calendar days left to expiry.\n",
        "\n",
        "Volatility: This is the option's implied volatility."
      ]
    },
    {
      "cell_type": "code",
      "metadata": {
        "id": "ZOwQwyc4aP8B"
      },
      "source": [
        "stock_price = 340.3\n",
        "strike_price = 350\n",
        "interest_rate = 0\n",
        "days_to_expiry = 29\n",
        "volatility = 30.0"
      ],
      "execution_count": null,
      "outputs": []
    },
    {
      "cell_type": "markdown",
      "metadata": {
        "id": "OKTohSMvaSvi"
      },
      "source": [
        "## Step 3: Compute Greeks\n",
        "\n",
        "BS (Black-Scholes) is used for pricing European options on the stocks without dividends. The syntax is as follows:\n",
        "\n",
        "BS([stock_price, strike_price, interest_rate, days_to_expiry], volatility=x, callPrice=y, putPrice=z).\n",
        "\n",
        "The BS function returns  the following callPrice, putPrice, callDelta, putDelta, callTheta, putTheta, callRho, putRho, vega, and gamma\t\n"
      ]
    },
    {
      "cell_type": "code",
      "metadata": {
        "id": "zz5sgNLOaVvT"
      },
      "source": [
        "greeks = mibian.BS([stock_price, strike_price, interest_rate, days_to_expiry], \\\n",
        "                   volatility=volatility)"
      ],
      "execution_count": null,
      "outputs": []
    },
    {
      "cell_type": "code",
      "metadata": {
        "colab": {
          "base_uri": "https://localhost:8080/"
        },
        "id": "MtBSoiA6aZyz",
        "outputId": "00b0457d-671c-4d3b-e9df-f3c080c0cfe7"
      },
      "source": [
        "greeks.callRho"
      ],
      "execution_count": null,
      "outputs": [
        {
          "output_type": "execute_result",
          "data": {
            "text/plain": [
              "0.09843024517833651"
            ]
          },
          "metadata": {
            "tags": []
          },
          "execution_count": 8
        }
      ]
    },
    {
      "cell_type": "markdown",
      "metadata": {
        "id": "giyKPIwYanBu"
      },
      "source": [
        "## Step 4: Greeks for Call Option\n"
      ]
    },
    {
      "cell_type": "code",
      "metadata": {
        "id": "fHggzOjkac3P",
        "colab": {
          "base_uri": "https://localhost:8080/"
        },
        "outputId": "c66d0561-dc1d-4d2b-f965-db660253305b"
      },
      "source": [
        "print(tabulate(\n",
        "        [\n",
        "            ['Delta',greeks.callDelta],\n",
        "            ['Gamma',greeks.gamma],\n",
        "            ['Vega',greeks.vega],\n",
        "            ['Theta',greeks.callTheta],\n",
        "            ['Rho',greeks.callRho]\n",
        "        ],headers=['Greeks','Value'],tablefmt='orgtbl'))\n",
        "print(\"\")\n",
        "print(\"The Call price is:\",greeks.callPrice)"
      ],
      "execution_count": null,
      "outputs": [
        {
          "output_type": "stream",
          "text": [
            "| Greeks   |      Value |\n",
            "|----------+------------|\n",
            "| Delta    |  0.385875  |\n",
            "| Gamma    |  0.0132923 |\n",
            "| Vega     |  0.366903  |\n",
            "| Theta    | -0.189778  |\n",
            "| Rho      |  0.0984302 |\n",
            "\n",
            "The Call price is: 7.426905031477048\n"
          ],
          "name": "stdout"
        }
      ]
    },
    {
      "cell_type": "markdown",
      "metadata": {
        "id": "xQyOUIYlag9d"
      },
      "source": [
        "## Step 5: Greeks for Put Option"
      ]
    },
    {
      "cell_type": "code",
      "metadata": {
        "colab": {
          "base_uri": "https://localhost:8080/"
        },
        "id": "b_BMcCUzahjf",
        "outputId": "583ca28b-3b2b-44d7-d008-672a03144188"
      },
      "source": [
        "print(tabulate(\n",
        "        [\n",
        "            ['Delta', greeks.putDelta],\n",
        "            ['Gamma', greeks.gamma],\n",
        "            ['Vega', greeks.vega],\n",
        "            ['Theta', greeks.putTheta],\n",
        "            ['Rho', greeks.putRho]\n",
        "        ],headers=['Greeks', 'Value'], tablefmt='orgtbl'))\n",
        "print(\"\")\n",
        "print(\"The Put price is:\",greeks.putPrice)\n",
        "print(\"The Call price is:\",greeks.callPrice)"
      ],
      "execution_count": null,
      "outputs": [
        {
          "output_type": "stream",
          "text": [
            "| Greeks   |      Value |\n",
            "|----------+------------|\n",
            "| Delta    | -0.614125  |\n",
            "| Gamma    |  0.0132923 |\n",
            "| Vega     |  0.366903  |\n",
            "| Theta    | -0.189778  |\n",
            "| Rho      | -0.179652  |\n",
            "\n",
            "The Put price is: 17.12690503147701\n",
            "The Call price is: 7.426905031477048\n"
          ],
          "name": "stdout"
        }
      ]
    },
    {
      "cell_type": "markdown",
      "metadata": {
        "id": "_lEqFTRiavk8"
      },
      "source": [
        "Below the Options Greeks table, the price of 100 strike call and 100 strike put is calculated. This is the theoretical option price as per the Black-Scholes options pricing model. This should ideally match the option price in the market. In the upcoming units, we will discuss in depth all the important Options Greeks and their sensitivity.\n",
        "<BR>\n"
      ]
    }
  ]
}